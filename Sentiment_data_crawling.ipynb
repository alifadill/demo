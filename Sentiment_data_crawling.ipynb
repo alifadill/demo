{
  "nbformat": 4,
  "nbformat_minor": 0,
  "metadata": {
    "colab": {
      "provenance": [],
      "collapsed_sections": [],
      "authorship_tag": "ABX9TyP9YaTnH5FhaFwxKutwBtAZ",
      "include_colab_link": true
    },
    "kernelspec": {
      "name": "python3",
      "display_name": "Python 3"
    },
    "language_info": {
      "name": "python"
    }
  },
  "cells": [
    {
      "cell_type": "markdown",
      "metadata": {
        "id": "view-in-github",
        "colab_type": "text"
      },
      "source": [
        "<a href=\"https://colab.research.google.com/github/alifadill/demo/blob/main/Sentiment_data_crawling.ipynb\" target=\"_parent\"><img src=\"https://colab.research.google.com/assets/colab-badge.svg\" alt=\"Open In Colab\"/></a>"
      ]
    },
    {
      "cell_type": "code",
      "execution_count": 182,
      "metadata": {
        "id": "fqeCzwDkrJay"
      },
      "outputs": [],
      "source": [
        "import tweepy"
      ]
    },
    {
      "cell_type": "code",
      "source": [
        "api_key = \"XgbUDyUcapLKJZd8mZUWtPZYH\"\n",
        "api_secret_key = \"8WDeZU1uQXwVveb0Vc3LYympKqbgBaLDdMo9hPy4NJK3l8Ubfk\"\n",
        "access_token =\"1035860007395282945-ZpvkxQJMc8AIsHh8JQAFkLRDQfNEsn\"\n",
        "access_token_secret = \"RlWOHF0y4qtcR8lydc3YHCvRxNmxQA6kigmgZGqfoHxP1\"\n",
        "\n"
      ],
      "metadata": {
        "id": "9QetjcD3r01-"
      },
      "execution_count": 183,
      "outputs": []
    },
    {
      "cell_type": "code",
      "source": [
        "auth = tweepy.OAuthHandler(api_key, api_secret_key)\n",
        "auth.set_access_token(access_token, access_token_secret)\n",
        "api = tweepy.API(auth)"
      ],
      "metadata": {
        "id": "6nG3X8sPsc0S"
      },
      "execution_count": 184,
      "outputs": []
    },
    {
      "cell_type": "code",
      "source": [
        "# hasilUser = api.search(q=\"jakarta\", lang=\"id\", count=10)"
      ],
      "metadata": {
        "id": "VTjpL9UatC8b"
      },
      "execution_count": 185,
      "outputs": []
    },
    {
      "cell_type": "code",
      "source": [
        "print(\"Hello World\");"
      ],
      "metadata": {
        "colab": {
          "base_uri": "https://localhost:8080/"
        },
        "id": "PzoDwen-tXIl",
        "outputId": "38326c54-5e32-4170-e1a9-5ac989154df1"
      },
      "execution_count": 186,
      "outputs": [
        {
          "output_type": "stream",
          "name": "stdout",
          "text": [
            "Hello World\n"
          ]
        }
      ]
    },
    {
      "cell_type": "code",
      "source": [
        "import pandas as pd"
      ],
      "metadata": {
        "id": "E6T2ezajI1WI"
      },
      "execution_count": 187,
      "outputs": []
    },
    {
      "cell_type": "code",
      "source": [
        "path_dataset = \"/content/Crawling_Jepang.xlsx\""
      ],
      "metadata": {
        "id": "AUficbcJKYbf"
      },
      "execution_count": 188,
      "outputs": []
    },
    {
      "cell_type": "code",
      "source": [
        "#load dataset/dataframe \n",
        "# df = pd.read_table(path_dataset, error_bad_lines=False)\n",
        "df2 = pd.read_excel(path_dataset)\n",
        "df = pd.read_excel(path_dataset, index_col=0)"
      ],
      "metadata": {
        "id": "W-HJqLSuKeAI"
      },
      "execution_count": 189,
      "outputs": []
    },
    {
      "cell_type": "code",
      "source": [
        "# display(df)\n",
        "# df.head()\n",
        "# df2.head()\n",
        "\n",
        "cols = ['text'];\n",
        "# df = pd.read_excel(path_dataset, index_col=0, usecols=cols)\n",
        "\n",
        "# df.shape\n",
        "# df.head()\n",
        "# print(df.dtypes)\n",
        "\n",
        "\n",
        "\n",
        "# HOW TO GET COLUMNS\n",
        "# 1\n",
        "# for col in df.columns:\n",
        "#   print(col)\n",
        "# 2\n",
        "# list(df.columns)\n",
        "# 3 \n",
        "# print(df.keys)\n",
        "# 4 \n",
        "# list(df.columns.values)\n",
        "# 5\n",
        "# list(df.columns.values.tolist())\n",
        "# 6\n",
        "# sorted(df)\n",
        "\n",
        "df_text = df.get(\"text\")\n",
        "# cek tipe data\n",
        "# print(df_text.dtypes) #object\n",
        "# df_text = df.text.to_list()\n",
        "# type(df_text)\n",
        "df_text\n",
        "# print(df_text.dtypes)\n",
        "\n",
        "\n",
        "# list(df.columns.values)"
      ],
      "metadata": {
        "colab": {
          "base_uri": "https://localhost:8080/"
        },
        "id": "jYCiETrbLdz9",
        "outputId": "77183b86-1a8a-4121-bace-f00d0a66f09c"
      },
      "execution_count": 190,
      "outputs": [
        {
          "output_type": "execute_result",
          "data": {
            "text/plain": [
              "0                                      tanyakanrl jepang\n",
              "1      aku jugaaaaa udah ready ya beb malem ini sypa ...\n",
              "2      aku jugaaaaa suka jepang vcs yuk cek tarif di ...\n",
              "3          askrlfess pengennn ayo kita jln jln ke jepang\n",
              "4      orang kalau udah tulus dan serius pasti jalann...\n",
              "                             ...                        \n",
              "195    hasil live draw ubud november shio ayamresult ...\n",
              "196    apakah ini spoiler setlist tambahan buat di je...\n",
              "197    tanyakanrl korea atau jepang tapi klo cina jug...\n",
              "198    saya suka berjalan di tengah hujan karena tida...\n",
              "199              caratstalk iya banget di jepang aja deh\n",
              "Name: text, Length: 200, dtype: object"
            ]
          },
          "metadata": {},
          "execution_count": 190
        }
      ]
    },
    {
      "cell_type": "code",
      "source": [
        "# display(df.get(;0;text;sentimen))"
      ],
      "metadata": {
        "id": "Rbw3fjK1nvnL"
      },
      "execution_count": 191,
      "outputs": []
    },
    {
      "cell_type": "code",
      "source": [
        "from google.colab import drive"
      ],
      "metadata": {
        "id": "adp9Kb5xL42g"
      },
      "execution_count": 192,
      "outputs": []
    },
    {
      "cell_type": "code",
      "source": [
        "drive.mount('/content/drive')"
      ],
      "metadata": {
        "colab": {
          "base_uri": "https://localhost:8080/"
        },
        "id": "3VArqnxuQhGJ",
        "outputId": "8c418c60-9852-400c-c2da-08f3fbae62df"
      },
      "execution_count": 193,
      "outputs": [
        {
          "output_type": "stream",
          "name": "stdout",
          "text": [
            "Drive already mounted at /content/drive; to attempt to forcibly remount, call drive.mount(\"/content/drive\", force_remount=True).\n"
          ]
        }
      ]
    },
    {
      "cell_type": "code",
      "source": [
        "# path = \"/content/drive/My Drive/Dataset/drug.csv\""
      ],
      "metadata": {
        "id": "eScxk12CQk8C"
      },
      "execution_count": 194,
      "outputs": []
    },
    {
      "cell_type": "code",
      "source": [
        "# df2 = pd.read_csv(path)\n",
        "# df2.head()\n",
        "                  "
      ],
      "metadata": {
        "id": "sYF27UQjQ13j"
      },
      "execution_count": 195,
      "outputs": []
    },
    {
      "cell_type": "code",
      "source": [
        "# !pip install twint\n",
        "# !pip install nest_asyncio\n",
        "# import twint\n",
        "# import nest_asyncio\n"
      ],
      "metadata": {
        "id": "u_HI22txQ9NM"
      },
      "execution_count": 196,
      "outputs": []
    },
    {
      "cell_type": "code",
      "source": [
        "# nest_asyncio.apply()\n",
        "# c = twint.Config()\n",
        "# c.Search = \"aku\"\n",
        "# c.Limit = 200\n",
        "# c.Store_csv = True\n",
        "# c.Output = \"Crawling_PPKM.csv\"\n",
        "\n",
        "# twint.run.Search(c)\n"
      ],
      "metadata": {
        "id": "GZ91p1LhWuGI"
      },
      "execution_count": 197,
      "outputs": []
    },
    {
      "cell_type": "code",
      "source": [
        "!pip install textblob \n",
        "from textblob import TextBlob"
      ],
      "metadata": {
        "colab": {
          "base_uri": "https://localhost:8080/"
        },
        "id": "cLKdP0F5d5x9",
        "outputId": "d18fe7f5-75c7-4a73-f65e-32ab4523f3d5"
      },
      "execution_count": 198,
      "outputs": [
        {
          "output_type": "stream",
          "name": "stdout",
          "text": [
            "Looking in indexes: https://pypi.org/simple, https://us-python.pkg.dev/colab-wheels/public/simple/\n",
            "Requirement already satisfied: textblob in /usr/local/lib/python3.7/dist-packages (0.15.3)\n",
            "Requirement already satisfied: nltk>=3.1 in /usr/local/lib/python3.7/dist-packages (from textblob) (3.7)\n",
            "Requirement already satisfied: tqdm in /usr/local/lib/python3.7/dist-packages (from nltk>=3.1->textblob) (4.64.1)\n",
            "Requirement already satisfied: joblib in /usr/local/lib/python3.7/dist-packages (from nltk>=3.1->textblob) (1.2.0)\n",
            "Requirement already satisfied: click in /usr/local/lib/python3.7/dist-packages (from nltk>=3.1->textblob) (7.1.2)\n",
            "Requirement already satisfied: regex>=2021.8.3 in /usr/local/lib/python3.7/dist-packages (from nltk>=3.1->textblob) (2022.6.2)\n"
          ]
        }
      ]
    },
    {
      "cell_type": "code",
      "source": [
        "for col in df_text:\n",
        "  analysis = TextBlob(col)\n",
        "  an = analysis.translate(from_lang='id', to='en')\n",
        "  print(an.sentiment)\n"
      ],
      "metadata": {
        "colab": {
          "base_uri": "https://localhost:8080/"
        },
        "id": "I4THzeKQfJ4O",
        "outputId": "bd3ebb44-29cc-429d-ab3e-32ed93300cc5"
      },
      "execution_count": 199,
      "outputs": [
        {
          "output_type": "stream",
          "name": "stdout",
          "text": [
            "Sentiment(polarity=0.0, subjectivity=0.0)\n",
            "Sentiment(polarity=0.20000000000000004, subjectivity=0.39999999999999997)\n",
            "Sentiment(polarity=0.0, subjectivity=0.0)\n",
            "Sentiment(polarity=0.0, subjectivity=0.0)\n",
            "Sentiment(polarity=0.14166666666666666, subjectivity=0.41666666666666663)\n",
            "Sentiment(polarity=0.0, subjectivity=0.0)\n",
            "Sentiment(polarity=0.1, subjectivity=0.25)\n",
            "Sentiment(polarity=0.0, subjectivity=0.0)\n",
            "Sentiment(polarity=0.0, subjectivity=0.0)\n",
            "Sentiment(polarity=0.2333333333333333, subjectivity=0.5333333333333333)\n",
            "Sentiment(polarity=0.0, subjectivity=0.5)\n",
            "Sentiment(polarity=0.26, subjectivity=0.38)\n",
            "Sentiment(polarity=0.0, subjectivity=0.25)\n",
            "Sentiment(polarity=-0.05, subjectivity=0.2)\n",
            "Sentiment(polarity=-0.012500000000000011, subjectivity=0.675)\n",
            "Sentiment(polarity=0.0, subjectivity=0.0)\n",
            "Sentiment(polarity=0.24166666666666667, subjectivity=0.4666666666666666)\n",
            "Sentiment(polarity=0.0, subjectivity=0.4)\n",
            "Sentiment(polarity=-0.25, subjectivity=0.45)\n",
            "Sentiment(polarity=0.0, subjectivity=0.0)\n",
            "Sentiment(polarity=0.0, subjectivity=0.0)\n",
            "Sentiment(polarity=0.2, subjectivity=0.4)\n",
            "Sentiment(polarity=0.3, subjectivity=0.8)\n",
            "Sentiment(polarity=0.26, subjectivity=0.38)\n",
            "Sentiment(polarity=0.0, subjectivity=0.0)\n",
            "Sentiment(polarity=0.2933333333333333, subjectivity=0.5566666666666668)\n",
            "Sentiment(polarity=0.0, subjectivity=0.0)\n",
            "Sentiment(polarity=-0.3, subjectivity=0.4)\n",
            "Sentiment(polarity=0.24166666666666667, subjectivity=0.4666666666666666)\n",
            "Sentiment(polarity=0.0, subjectivity=0.0)\n",
            "Sentiment(polarity=0.35000000000000003, subjectivity=0.4166666666666667)\n",
            "Sentiment(polarity=0.5, subjectivity=0.15)\n",
            "Sentiment(polarity=0.43333333333333335, subjectivity=0.8333333333333334)\n",
            "Sentiment(polarity=0.0, subjectivity=0.0)\n",
            "Sentiment(polarity=0.0, subjectivity=0.0)\n",
            "Sentiment(polarity=-0.015909090909090914, subjectivity=0.32499999999999996)\n",
            "Sentiment(polarity=0.1, subjectivity=0.4)\n",
            "Sentiment(polarity=0.0, subjectivity=0.0)\n",
            "Sentiment(polarity=0.0, subjectivity=0.0)\n",
            "Sentiment(polarity=0.1875, subjectivity=0.375)\n",
            "Sentiment(polarity=0.016666666666666666, subjectivity=0.03333333333333333)\n",
            "Sentiment(polarity=0.0, subjectivity=0.0)\n",
            "Sentiment(polarity=0.0, subjectivity=0.4)\n",
            "Sentiment(polarity=0.25, subjectivity=0.3)\n",
            "Sentiment(polarity=0.0, subjectivity=0.0)\n",
            "Sentiment(polarity=0.26, subjectivity=0.38)\n",
            "Sentiment(polarity=0.2, subjectivity=0.4)\n",
            "Sentiment(polarity=0.1, subjectivity=0.25)\n",
            "Sentiment(polarity=0.21428571428571427, subjectivity=0.5714285714285714)\n",
            "Sentiment(polarity=0.2725, subjectivity=0.5466666666666666)\n",
            "Sentiment(polarity=0.0, subjectivity=0.0)\n",
            "Sentiment(polarity=0.0, subjectivity=0.0)\n",
            "Sentiment(polarity=0.0, subjectivity=0.0)\n",
            "Sentiment(polarity=0.06818181818181818, subjectivity=0.4772727272727273)\n",
            "Sentiment(polarity=-0.05, subjectivity=0.2)\n",
            "Sentiment(polarity=0.0, subjectivity=0.0)\n",
            "Sentiment(polarity=0.2791666666666667, subjectivity=0.44166666666666665)\n",
            "Sentiment(polarity=0.0, subjectivity=0.0)\n",
            "Sentiment(polarity=0.0, subjectivity=0.0)\n",
            "Sentiment(polarity=0.0, subjectivity=0.0)\n",
            "Sentiment(polarity=0.0, subjectivity=0.0)\n",
            "Sentiment(polarity=0.0, subjectivity=0.0)\n",
            "Sentiment(polarity=0.0, subjectivity=0.0)\n",
            "Sentiment(polarity=0.7, subjectivity=0.6000000000000001)\n",
            "Sentiment(polarity=0.0, subjectivity=0.0)\n",
            "Sentiment(polarity=0.0, subjectivity=0.0)\n",
            "Sentiment(polarity=0.0, subjectivity=0.0)\n",
            "Sentiment(polarity=0.0, subjectivity=0.0)\n",
            "Sentiment(polarity=0.0, subjectivity=0.0)\n",
            "Sentiment(polarity=0.4, subjectivity=0.7)\n",
            "Sentiment(polarity=0.0, subjectivity=0.0)\n",
            "Sentiment(polarity=0.25, subjectivity=0.25)\n",
            "Sentiment(polarity=0.0, subjectivity=0.0)\n",
            "Sentiment(polarity=0.0, subjectivity=0.0)\n",
            "Sentiment(polarity=0.0, subjectivity=0.0)\n",
            "Sentiment(polarity=0.0, subjectivity=0.0)\n",
            "Sentiment(polarity=-0.25, subjectivity=0.25)\n",
            "Sentiment(polarity=0.2027777777777778, subjectivity=0.5138888888888888)\n",
            "Sentiment(polarity=0.0, subjectivity=0.0)\n",
            "Sentiment(polarity=0.0, subjectivity=0.0)\n",
            "Sentiment(polarity=0.0, subjectivity=0.0)\n",
            "Sentiment(polarity=0.0, subjectivity=0.0)\n",
            "Sentiment(polarity=0.0, subjectivity=0.0)\n",
            "Sentiment(polarity=0.0, subjectivity=0.0)\n",
            "Sentiment(polarity=0.0, subjectivity=0.0)\n",
            "Sentiment(polarity=0.0, subjectivity=0.0)\n",
            "Sentiment(polarity=0.06153846153846154, subjectivity=0.2564102564102564)\n",
            "Sentiment(polarity=0.0, subjectivity=0.0)\n",
            "Sentiment(polarity=0.0, subjectivity=0.0)\n",
            "Sentiment(polarity=0.575, subjectivity=0.825)\n",
            "Sentiment(polarity=0.2, subjectivity=0.5)\n",
            "Sentiment(polarity=0.0, subjectivity=0.0)\n",
            "Sentiment(polarity=0.0, subjectivity=0.0)\n",
            "Sentiment(polarity=0.0, subjectivity=0.0)\n",
            "Sentiment(polarity=0.08, subjectivity=0.77)\n",
            "Sentiment(polarity=0.0, subjectivity=0.0)\n",
            "Sentiment(polarity=0.0, subjectivity=0.0)\n",
            "Sentiment(polarity=0.0, subjectivity=0.0)\n",
            "Sentiment(polarity=0.0, subjectivity=0.0)\n",
            "Sentiment(polarity=0.3095238095238096, subjectivity=0.5785714285714285)\n",
            "Sentiment(polarity=0.0, subjectivity=0.0)\n",
            "Sentiment(polarity=0.35, subjectivity=0.30000000000000004)\n",
            "Sentiment(polarity=0.06818181818181818, subjectivity=0.75)\n",
            "Sentiment(polarity=0.0, subjectivity=0.0)\n",
            "Sentiment(polarity=0.35000000000000003, subjectivity=0.4166666666666667)\n",
            "Sentiment(polarity=0.0, subjectivity=0.0)\n",
            "Sentiment(polarity=0.15, subjectivity=0.30625)\n",
            "Sentiment(polarity=0.12111111111111111, subjectivity=0.4666666666666666)\n",
            "Sentiment(polarity=0.03333333333333333, subjectivity=0.06666666666666667)\n",
            "Sentiment(polarity=0.0, subjectivity=0.0)\n",
            "Sentiment(polarity=0.075, subjectivity=0.2)\n",
            "Sentiment(polarity=0.0, subjectivity=0.0)\n",
            "Sentiment(polarity=0.0, subjectivity=0.0)\n",
            "Sentiment(polarity=0.003333333333333336, subjectivity=0.6466666666666666)\n",
            "Sentiment(polarity=-0.012500000000000011, subjectivity=0.675)\n",
            "Sentiment(polarity=0.8, subjectivity=1.0)\n",
            "Sentiment(polarity=0.4, subjectivity=0.375)\n",
            "Sentiment(polarity=-0.20833333333333334, subjectivity=0.4583333333333333)\n",
            "Sentiment(polarity=-0.7, subjectivity=0.2)\n",
            "Sentiment(polarity=0.0, subjectivity=0.0)\n",
            "Sentiment(polarity=0.0, subjectivity=0.0)\n",
            "Sentiment(polarity=0.0, subjectivity=0.0)\n",
            "Sentiment(polarity=0.375, subjectivity=0.75)\n",
            "Sentiment(polarity=0.6, subjectivity=0.8)\n",
            "Sentiment(polarity=-0.025, subjectivity=0.2916666666666667)\n",
            "Sentiment(polarity=0.7, subjectivity=0.6000000000000001)\n",
            "Sentiment(polarity=0.2, subjectivity=0.2)\n",
            "Sentiment(polarity=0.3104166666666667, subjectivity=0.8541666666666667)\n",
            "Sentiment(polarity=0.3037878787878788, subjectivity=0.6681818181818183)\n",
            "Sentiment(polarity=0.0, subjectivity=0.2)\n",
            "Sentiment(polarity=0.0, subjectivity=0.0)\n",
            "Sentiment(polarity=0.05555555555555555, subjectivity=0.2111111111111111)\n",
            "Sentiment(polarity=0.2, subjectivity=0.1)\n",
            "Sentiment(polarity=0.0, subjectivity=0.0)\n",
            "Sentiment(polarity=0.1, subjectivity=1.0)\n",
            "Sentiment(polarity=0.0, subjectivity=0.0)\n",
            "Sentiment(polarity=0.0, subjectivity=0.0)\n",
            "Sentiment(polarity=0.0, subjectivity=0.0)\n",
            "Sentiment(polarity=0.15, subjectivity=0.375)\n",
            "Sentiment(polarity=0.0, subjectivity=0.0)\n",
            "Sentiment(polarity=0.05, subjectivity=0.45)\n",
            "Sentiment(polarity=0.0, subjectivity=0.0)\n",
            "Sentiment(polarity=0.0, subjectivity=0.0)\n",
            "Sentiment(polarity=0.0, subjectivity=0.0)\n",
            "Sentiment(polarity=0.0, subjectivity=0.0)\n",
            "Sentiment(polarity=0.0, subjectivity=0.0)\n",
            "Sentiment(polarity=0.125, subjectivity=0.5)\n",
            "Sentiment(polarity=0.0, subjectivity=0.0)\n",
            "Sentiment(polarity=0.0, subjectivity=0.0)\n",
            "Sentiment(polarity=0.25, subjectivity=0.45)\n",
            "Sentiment(polarity=0.0, subjectivity=0.0)\n",
            "Sentiment(polarity=0.0, subjectivity=0.13333333333333333)\n",
            "Sentiment(polarity=0.0, subjectivity=0.0)\n",
            "Sentiment(polarity=0.1, subjectivity=0.4)\n",
            "Sentiment(polarity=0.0, subjectivity=0.0)\n",
            "Sentiment(polarity=0.5, subjectivity=0.5)\n",
            "Sentiment(polarity=0.0, subjectivity=0.05)\n",
            "Sentiment(polarity=0.1875, subjectivity=0.375)\n",
            "Sentiment(polarity=0.0, subjectivity=0.0)\n",
            "Sentiment(polarity=0.39999999999999997, subjectivity=0.5166666666666667)\n",
            "Sentiment(polarity=0.0, subjectivity=0.0)\n",
            "Sentiment(polarity=0.375, subjectivity=0.75)\n",
            "Sentiment(polarity=0.1, subjectivity=0.25)\n",
            "Sentiment(polarity=0.2, subjectivity=0.1)\n",
            "Sentiment(polarity=0.172, subjectivity=0.34577777777777774)\n",
            "Sentiment(polarity=0.25, subjectivity=0.25)\n",
            "Sentiment(polarity=0.0, subjectivity=0.0)\n",
            "Sentiment(polarity=0.0, subjectivity=0.0)\n",
            "Sentiment(polarity=0.1, subjectivity=0.1)\n",
            "Sentiment(polarity=0.375, subjectivity=0.75)\n",
            "Sentiment(polarity=0.35000000000000003, subjectivity=0.5833333333333334)\n",
            "Sentiment(polarity=0.05000000000000001, subjectivity=0.19166666666666665)\n",
            "Sentiment(polarity=-0.05833333333333333, subjectivity=0.21666666666666667)\n",
            "Sentiment(polarity=0.5, subjectivity=1.0)\n",
            "Sentiment(polarity=-0.3, subjectivity=0.45)\n",
            "Sentiment(polarity=0.08333333333333333, subjectivity=0.25)\n",
            "Sentiment(polarity=0.1, subjectivity=0.05)\n",
            "Sentiment(polarity=0.0, subjectivity=0.0)\n",
            "Sentiment(polarity=-0.5, subjectivity=1.0)\n",
            "Sentiment(polarity=0.0, subjectivity=0.0)\n",
            "Sentiment(polarity=0.3833333333333333, subjectivity=0.4666666666666666)\n",
            "Sentiment(polarity=0.0, subjectivity=0.0)\n",
            "Sentiment(polarity=0.0, subjectivity=0.0)\n",
            "Sentiment(polarity=0.0, subjectivity=0.125)\n",
            "Sentiment(polarity=0.0, subjectivity=0.0)\n",
            "Sentiment(polarity=0.03333333333333333, subjectivity=0.06666666666666667)\n",
            "Sentiment(polarity=0.0, subjectivity=0.0)\n",
            "Sentiment(polarity=0.0, subjectivity=0.0)\n",
            "Sentiment(polarity=0.0, subjectivity=0.0)\n",
            "Sentiment(polarity=0.0, subjectivity=0.0)\n",
            "Sentiment(polarity=0.35, subjectivity=0.35000000000000003)\n",
            "Sentiment(polarity=0.0, subjectivity=0.0)\n",
            "Sentiment(polarity=0.0, subjectivity=0.0)\n",
            "Sentiment(polarity=0.0, subjectivity=0.0)\n",
            "Sentiment(polarity=0.375, subjectivity=0.75)\n",
            "Sentiment(polarity=0.13636363636363635, subjectivity=0.5)\n",
            "Sentiment(polarity=0.0, subjectivity=0.0)\n",
            "Sentiment(polarity=0.0, subjectivity=0.0)\n",
            "Sentiment(polarity=0.0, subjectivity=0.0)\n",
            "Sentiment(polarity=0.2, subjectivity=0.2)\n"
          ]
        }
      ]
    }
  ]
}